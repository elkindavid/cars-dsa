{
 "cells": [
  {
   "cell_type": "code",
   "execution_count": null,
   "id": "77ffd72c-3d59-4427-a222-607806d63630",
   "metadata": {},
   "outputs": [],
   "source": [
    "import xgboost as xgb\n",
    "\n",
    "\n",
    "def load_model(model_path):\n",
    "    # Cargamos el modelo XGBoost desde la ruta especificada\n",
    "    model = xgb.Booster()\n",
    "    model.load_model(model_path)\n",
    "    return model\n",
    "\n",
    "\n",
    "def make_prediction(model, X):\n",
    "    # Realizamos predicciones usando el modelo XGBoost\n",
    "    predictions = model.predict(X)\n",
    "    return predictions"
   ]
  },
  {
   "cell_type": "code",
   "execution_count": 1,
   "id": "c8ae050d-8068-4ef7-96ed-fb903aaa7c13",
   "metadata": {
    "tags": []
   },
   "outputs": [],
   "source": [
    "from nbconvert import PythonExporter\n",
    "import nbformat\n",
    "\n",
    "def notebook_to_python(notebook_path, python_path):\n",
    "    \"\"\"\n",
    "    Convierte un notebook (.ipynb) a un archivo Python (.py).\n",
    "\n",
    "    Parameters:\n",
    "    - notebook_path (str): Ruta del notebook a convertir.\n",
    "    - python_path (str): Ruta del archivo Python de salida.\n",
    "    \"\"\"\n",
    "    with open(notebook_path, 'r', encoding='utf-8') as notebook_file:\n",
    "        notebook_content = nbformat.read(notebook_file, as_version=4)\n",
    "\n",
    "    python_exporter = PythonExporter()\n",
    "    python_code, _ = python_exporter.from_notebook_node(notebook_content)\n",
    "\n",
    "    with open(python_path, 'w', encoding='utf-8') as python_file:\n",
    "        python_file.write(python_code)\n",
    "\n",
    "# Rutas de entrada y salida\n",
    "notebook_path = 'Model.ipynb'\n",
    "python_path = 'Model.py'\n",
    "\n",
    "# Llama a la función para convertir el notebook a Python\n",
    "notebook_to_python(notebook_path, python_path)"
   ]
  }
 ],
 "metadata": {
  "kernelspec": {
   "display_name": "Python 3 (ipykernel)",
   "language": "python",
   "name": "python3"
  },
  "language_info": {
   "codemirror_mode": {
    "name": "ipython",
    "version": 3
   },
   "file_extension": ".py",
   "mimetype": "text/x-python",
   "name": "python",
   "nbconvert_exporter": "python",
   "pygments_lexer": "ipython3",
   "version": "3.11.5"
  }
 },
 "nbformat": 4,
 "nbformat_minor": 5
}
