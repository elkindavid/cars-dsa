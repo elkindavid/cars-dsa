{
 "cells": [
  {
   "cell_type": "code",
   "execution_count": 1,
   "id": "01587c2c-542e-4521-9310-6a46e2efde45",
   "metadata": {
    "tags": []
   },
   "outputs": [
    {
     "ename": "ModuleNotFoundError",
     "evalue": "No module named 'preprocessing'",
     "output_type": "error",
     "traceback": [
      "\u001b[1;31m---------------------------------------------------------------------------\u001b[0m",
      "\u001b[1;31mModuleNotFoundError\u001b[0m                       Traceback (most recent call last)",
      "Cell \u001b[1;32mIn[1], line 2\u001b[0m\n\u001b[0;32m      1\u001b[0m \u001b[38;5;28;01mfrom\u001b[39;00m \u001b[38;5;21;01mflask\u001b[39;00m \u001b[38;5;28;01mimport\u001b[39;00m Flask, request\n\u001b[1;32m----> 2\u001b[0m \u001b[38;5;28;01mfrom\u001b[39;00m \u001b[38;5;21;01mpreprocessing\u001b[39;00m \u001b[38;5;28;01mimport\u001b[39;00m load_data, encode_categorical_features, remove_outliers, add_y_mx_feature\n\u001b[0;32m      3\u001b[0m \u001b[38;5;28;01mfrom\u001b[39;00m \u001b[38;5;21;01mmodel\u001b[39;00m \u001b[38;5;28;01mimport\u001b[39;00m load_model\n\u001b[0;32m      5\u001b[0m app \u001b[38;5;241m=\u001b[39m Flask(\u001b[38;5;18m__name__\u001b[39m)\n",
      "\u001b[1;31mModuleNotFoundError\u001b[0m: No module named 'preprocessing'"
     ]
    }
   ],
   "source": [
    "from flask import Flask, request\n",
    "from preprocessing import load_data, encode_categorical_features, remove_outliers, add_y_mx_feature\n",
    "from model import load_model\n",
    "\n",
    "app = Flask(__name__)\n",
    "\n",
    "\n",
    "@app.route(\"/predict\", methods=[\"POST\"])\n",
    "def predict():\n",
    "    # Obtenemos los datos de entrada\n",
    "    data = request.get_json()\n",
    "\n",
    "    # Preprocesamos los datos\n",
    "    X = load_data(data)\n",
    "    X = encode_categorical_features(X)\n",
    "    X = remove_outliers(X)\n",
    "    X['YxM'] = X['Year'] * X['Mileage']\n",
    "\n",
    "    # Cargamos el modelo\n",
    "    model = load_model(\"model.pkl\")\n",
    "\n",
    "    # Realizamos la predicción\n",
    "    predictions = model.predict(X)\n",
    "\n",
    "    # Devolvemos la respuesta\n",
    "    return {\"predictions\": predictions}\n",
    "\n",
    "\n",
    "if __name__ == \"__main__\":\n",
    "    app.run(debug=True)\n",
    "    \n"
   ]
  },
  {
   "cell_type": "code",
   "execution_count": 4,
   "id": "cc764efb-9b1e-44a0-863a-a57b2fd2c673",
   "metadata": {
    "tags": []
   },
   "outputs": [],
   "source": [
    "  \n",
    "from nbconvert import PythonExporter\n",
    "import nbformat\n",
    "\n",
    "def notebook_to_python(notebook_path, python_path):\n",
    "    \"\"\"\n",
    "    Convierte un notebook (.ipynb) a un archivo Python (.py).\n",
    "\n",
    "    Parameters:\n",
    "    - notebook_path (str): Ruta del notebook a convertir.\n",
    "    - python_path (str): Ruta del archivo Python de salida.\n",
    "    \"\"\"\n",
    "    with open(notebook_path, 'r', encoding='utf-8') as notebook_file:\n",
    "        notebook_content = nbformat.read(notebook_file, as_version=4)\n",
    "\n",
    "    python_exporter = PythonExporter()\n",
    "    python_code, _ = python_exporter.from_notebook_node(notebook_content)\n",
    "\n",
    "    with open(python_path, 'w', encoding='utf-8') as python_file:\n",
    "        python_file.write(python_code)\n",
    "\n",
    "# Rutas de entrada y salida\n",
    "notebook_path = 'app.ipynb'\n",
    "python_path = 'app.py'\n",
    "\n",
    "# Llama a la función para convertir el notebook a Python\n",
    "notebook_to_python(notebook_path, python_path)"
   ]
  }
 ],
 "metadata": {
  "kernelspec": {
   "display_name": "Python 3 (ipykernel)",
   "language": "python",
   "name": "python3"
  },
  "language_info": {
   "codemirror_mode": {
    "name": "ipython",
    "version": 3
   },
   "file_extension": ".py",
   "mimetype": "text/x-python",
   "name": "python",
   "nbconvert_exporter": "python",
   "pygments_lexer": "ipython3",
   "version": "3.11.5"
  }
 },
 "nbformat": 4,
 "nbformat_minor": 5
}
