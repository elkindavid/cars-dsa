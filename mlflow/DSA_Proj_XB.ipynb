{
 "cells": [
  {
   "cell_type": "code",
   "execution_count": null,
   "metadata": {
    "application/vnd.databricks.v1+cell": {
     "cellMetadata": {
      "byteLimit": 2048000,
      "rowLimit": 10000
     },
     "inputWidgets": {},
     "nuid": "f6d3c7e6-e944-44e8-9f31-79607b59b70e",
     "showTitle": false,
     "title": ""
    }
   },
   "outputs": [],
   "source": [
    "import warnings\n",
    "warnings.filterwarnings('ignore')\n",
    "import pandas as pd\n",
    "import numpy as np\n",
    "import seaborn as sns \n",
    "from sklearn.preprocessing import OrdinalEncoder\n",
    "from sklearn.model_selection import train_test_split\n",
    "import xgboost as xgb\n",
    "from sklearn.ensemble import GradientBoostingRegressor\n",
    "\n",
    "from sklearn.metrics import mean_squared_error, mean_absolute_error\n",
    "\n",
    "import mlflow\n",
    "# Global settings\n",
    "n_jobs = -1 # This parameter conrols the parallel processing. -1 means using all processors.\n",
    "random_state = 40"
   ]
  },
  {
   "cell_type": "code",
   "execution_count": null,
   "metadata": {
    "application/vnd.databricks.v1+cell": {
     "cellMetadata": {
      "byteLimit": 2048000,
      "rowLimit": 10000
     },
     "inputWidgets": {},
     "nuid": "ea36872a-2dea-4efd-8250-af87656c8082",
     "showTitle": false,
     "title": ""
    }
   },
   "outputs": [],
   "source": [
    "\n",
    "# URL del archivo CSV en el repositorio de GitHub\n",
    "url1 = 'https://raw.githubusercontent.com/jsalcedo14/DSA_project/master/dataTrain_carListings.csv'\n",
    "url2 = 'https://raw.githubusercontent.com/jsalcedo14/DSA_project/master/dataTest_carListings.csv'\n",
    "# Lee el archivo CSV en un DataFrame de pandas\n",
    "data = pd.read_csv(url1)\n",
    "test = pd.read_csv(url2)"
   ]
  },
  {
   "cell_type": "code",
   "execution_count": null,
   "metadata": {
    "application/vnd.databricks.v1+cell": {
     "cellMetadata": {
      "byteLimit": 2048000,
      "rowLimit": 10000
     },
     "inputWidgets": {},
     "nuid": "2bdf2214-8ef6-403f-a928-91cc089c6763",
     "showTitle": false,
     "title": ""
    }
   },
   "outputs": [],
   "source": [
    "# Codificación de las variables categoricas\n",
    "cat = ['State','Make','Model']\n",
    "dic = {'State':{},'Make':{},'Model':{}}\n",
    "\n",
    "for i in cat:\n",
    "    idx, codex = pd.factorize(data[i])\n",
    "    data[i] = idx\n",
    "    # Diccionario de referencia\n",
    "    dic[i].update({code: i for i, code in enumerate(codex)})\n",
    "    # Codificación de variables en testing con base en el diccionario\n",
    "    test[i] = test[i].apply(lambda code: dic[i][code])"
   ]
  },
  {
   "cell_type": "code",
   "execution_count": null,
   "metadata": {
    "application/vnd.databricks.v1+cell": {
     "cellMetadata": {
      "byteLimit": 2048000,
      "rowLimit": 10000
     },
     "inputWidgets": {},
     "nuid": "11fd6f6e-5669-49f2-9ecf-892d2c407326",
     "showTitle": false,
     "title": ""
    }
   },
   "outputs": [
    {
     "name": "stdout",
     "output_type": "stream",
     "text": [
      "Cantidad Datos: 400000\n",
      "Primer Cuartil: 13499.0\n",
      "Tercer Cuartil: 26999.0\n",
      "Rango Intercuartil: 13500.0\n",
      "Mediana: 18450.0\n",
      "Valor Mínimo: 5001\n",
      "Valor Máximo: 79999\n",
      "BI_Calculado: \n",
      " -6751.0\n",
      "BS_Calculado: \n",
      " 47249.0\n"
     ]
    }
   ],
   "source": [
    "print('Cantidad Datos:',len(data))\n",
    "\n",
    "# Control de Outliers\n",
    "Q1 = data['Price'].quantile(0.25)\n",
    "print('Primer Cuartil:', Q1)\n",
    "\n",
    "Q3 = data['Price'].quantile(0.75)\n",
    "print('Tercer Cuartil:', Q3)\n",
    "\n",
    "IQR = Q3 - Q1\n",
    "print('Rango Intercuartil:', IQR)\n",
    "\n",
    "Mediana = data['Price'].median()\n",
    "print('Mediana:', Mediana)\n",
    "\n",
    "Valor_Minimo = data['Price'].min()\n",
    "print('Valor Mínimo:', Valor_Minimo)\n",
    "\n",
    "Valor_Maximo = data['Price'].max()\n",
    "print('Valor Máximo:', Valor_Maximo)\n",
    "\n",
    "BI_Calculado = (Q1 - 1.5 * IQR)\n",
    "print('BI_Calculado: \\n', BI_Calculado)\n",
    "\n",
    "BS_Calculado = (Q3 + 1.5 * IQR)\n",
    "print('BS_Calculado: \\n', BS_Calculado)"
   ]
  },
  {
   "cell_type": "code",
   "execution_count": null,
   "metadata": {
    "application/vnd.databricks.v1+cell": {
     "cellMetadata": {
      "byteLimit": 2048000,
      "rowLimit": 10000
     },
     "inputWidgets": {},
     "nuid": "12c547a8-aaa6-4c8a-b179-71d7515f2bc5",
     "showTitle": false,
     "title": ""
    }
   },
   "outputs": [
    {
     "name": "stdout",
     "output_type": "stream",
     "text": [
      "\n",
      " Lista de Outliers \n",
      "         Price  Year  Mileage  State  Make  Model\n",
      "90      61700  2017      355      5     1     68\n",
      "122     49977  2015    25740      7     1     86\n",
      "128     47550  2011    47383     22    22     91\n",
      "168     51400  2015    44905      2    10    105\n",
      "187     73216  2016     4912      2     1    117\n",
      "...       ...   ...      ...    ...   ...    ...\n",
      "399900  59980  2017    10989      2     1     45\n",
      "399931  67365  2017     4519      0     9    144\n",
      "399956  63900  2016    21501     32    22     91\n",
      "399957  52998  2017     4694     25     2    230\n",
      "399992  50990  2017    23896      2    27    162\n",
      "\n",
      "[10880 rows x 6 columns]\n"
     ]
    }
   ],
   "source": [
    "ubicacion_outliers = (data['Price'] < BI_Calculado) | (data['Price'] > BS_Calculado)\n",
    "outliers = data[ubicacion_outliers]\n",
    "print('\\n Lista de Outliers \\n', outliers)\n",
    "\n",
    "ubicacion_sin_out = (data['Price'] >= BI_Calculado) & (data['Price'] <= BS_Calculado)\n",
    "data = data[ubicacion_sin_out]"
   ]
  },
  {
   "cell_type": "code",
   "execution_count": null,
   "metadata": {
    "application/vnd.databricks.v1+cell": {
     "cellMetadata": {
      "byteLimit": 2048000,
      "rowLimit": 10000
     },
     "inputWidgets": {},
     "nuid": "a0c0d624-a3fe-4c9d-a00c-56a2f63ad61d",
     "showTitle": false,
     "title": ""
    }
   },
   "outputs": [],
   "source": [
    "# Selección de variables numéricas (X)\n",
    "\n",
    "X = data.drop(['Price'], axis=1)\n",
    "\n",
    "X['YxM'] = X['Year'] * X['Mileage']\n",
    "test['YxM'] = test['Year'] * test['Mileage']\n",
    "\n",
    "y = data['Price']"
   ]
  },
  {
   "cell_type": "code",
   "execution_count": null,
   "metadata": {
    "application/vnd.databricks.v1+cell": {
     "cellMetadata": {
      "byteLimit": 2048000,
      "rowLimit": 10000
     },
     "inputWidgets": {},
     "nuid": "d2ffa832-e04a-491b-bb2d-145e1f39241d",
     "showTitle": false,
     "title": ""
    }
   },
   "outputs": [],
   "source": [
    "# Separación de variables predictoras (X) y variable de interés (y) en set de entrenamiento y test usandola función train_test_split\n",
    "from sklearn.model_selection import train_test_split\n",
    "X_train, X_test, y_train, y_test = train_test_split(X, y, test_size=0.33, random_state=40)"
   ]
  },
  {
   "cell_type": "code",
   "execution_count": null,
   "metadata": {
    "application/vnd.databricks.v1+cell": {
     "cellMetadata": {
      "byteLimit": 2048000,
      "rowLimit": 10000
     },
     "inputWidgets": {},
     "nuid": "fad893e0-1576-40e7-973d-d604f5555fd7",
     "showTitle": false,
     "title": ""
    }
   },
   "outputs": [
    {
     "name": "stderr",
     "output_type": "stream",
     "text": [
      "2023/11/12 17:20:04 WARNING mlflow.models.model: Model logged without a signature. Signatures will be required for upcoming model registry features as they validate model inputs and denote the expected schema of model outputs. Please visit https://www.mlflow.org/docs/2.8.0/models.html#set-signature-on-logged-model for instructions on setting a model signature on your logged model.\n"
     ]
    },
    {
     "data": {
      "application/vnd.jupyter.widget-view+json": {
       "model_id": "15dd492510fa4d27ad64be96b53aba61",
       "version_major": 2,
       "version_minor": 0
      },
      "text/plain": [
       "Uploading artifacts:   0%|          | 0/5 [00:00<?, ?it/s]"
      ]
     },
     "metadata": {},
     "output_type": "display_data"
    },
    {
     "name": "stdout",
     "output_type": "stream",
     "text": [
      "Mean Squared Error: 8577104.760914449\n",
      "Root Mean Squared Error: 2928.669452313533\n",
      "Mean Absolute Error: 2015.9703342551522\n",
      "Mean Absolute Percentage Error: 10.754942596495487%\n"
     ]
    }
   ],
   "source": [
    "# defina el servidor para llevar el registro de modelos y artefactos\n",
    "#mlflow.set_tracking_uri('http://localhost:5000')\n",
    "# registre el experimento\n",
    "experiment = mlflow.set_experiment(\"/xgboost\")\n",
    "\n",
    "# Aquí se ejecuta MLflow sin especificar un nombre o id del experimento. MLflow los crea un experimento para este cuaderno por defecto y guarda las características del experimento y las métricas definidas. \n",
    "\n",
    "with mlflow.start_run(experiment_id=experiment.experiment_id):\n",
    "    # defina los parámetros del modelo\n",
    "    learning_rate = 0.1\n",
    "    max_depth = 10\n",
    "    n_estimators = 300\n",
    "    subsample = 1\n",
    "    \n",
    "    # Crea el modelo con los parámetros definidos\n",
    "    xgb_regressor = xgb.XGBRegressor(\n",
    "        learning_rate=learning_rate,\n",
    "        max_depth=max_depth,\n",
    "        n_estimators=n_estimators,\n",
    "        subsample=subsample,\n",
    "        verbosity=0,\n",
    "        random_state=random_state\n",
    "    )\n",
    "    \n",
    "    # Entrena con los datos de entrenamiento\n",
    "    xgb_regressor.fit(X_train, y_train)\n",
    "    \n",
    "    # Realiza predicciones de prueba\n",
    "    predictions = xgb_regressor.predict(X_test)\n",
    "  \n",
    "    # Calcula métricas\n",
    "    mse = mean_squared_error(y_test, predictions)\n",
    "    rmse = np.sqrt(mse)\n",
    "    mae = mean_absolute_error(y_test, predictions)\n",
    "    mape = np.mean(np.abs((y_test - predictions) / y_test)) * 100\n",
    "  \n",
    "    # Registra los parámetros\n",
    "    mlflow.log_param(\"learning_rate\", learning_rate)\n",
    "    mlflow.log_param(\"max_depth\", max_depth)\n",
    "    mlflow.log_param(\"n_estimators\", n_estimators)\n",
    "    mlflow.log_param(\"subsample\", subsample)\n",
    "  \n",
    "    # Registra el modelo\n",
    "    mlflow.xgboost.log_model(xgb_regressor, \"xgboost-model\")\n",
    "  \n",
    "    # Registra las métricas\n",
    "    mlflow.log_metric(\"mse\", mse)\n",
    "    mlflow.log_metric(\"rmse\", rmse)\n",
    "    mlflow.log_metric(\"mae\", mae)\n",
    "    mlflow.log_metric(\"mape\", mape)\n",
    "    \n",
    "    print(f'Mean Squared Error: {mse}')\n",
    "    print(f'Root Mean Squared Error: {rmse}')\n",
    "    print(f'Mean Absolute Error: {mae}')\n",
    "    print(f'Mean Absolute Percentage Error: {mape}%')"
   ]
  }
 ],
 "metadata": {
  "application/vnd.databricks.v1+notebook": {
   "dashboards": [],
   "language": "python",
   "notebookMetadata": {
    "pythonIndentUnit": 4
   },
   "notebookName": "DSA_Proj_XB",
   "widgets": {}
  },
  "kernelspec": {
   "display_name": "Python 3 (ipykernel)",
   "language": "python",
   "name": "python3"
  },
  "language_info": {
   "codemirror_mode": {
    "name": "ipython",
    "version": 3
   },
   "file_extension": ".py",
   "mimetype": "text/x-python",
   "name": "python",
   "nbconvert_exporter": "python",
   "pygments_lexer": "ipython3",
   "version": "3.11.5"
  }
 },
 "nbformat": 4,
 "nbformat_minor": 4
}
