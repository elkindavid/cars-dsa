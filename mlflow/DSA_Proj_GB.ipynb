{
 "cells": [
  {
   "cell_type": "code",
   "execution_count": null,
   "metadata": {
    "application/vnd.databricks.v1+cell": {
     "cellMetadata": {
      "byteLimit": 2048000,
      "rowLimit": 10000
     },
     "inputWidgets": {},
     "nuid": "7fc1d34f-d9cf-43b6-9011-8b75e06a0608",
     "showTitle": false,
     "title": ""
    }
   },
   "outputs": [],
   "source": [
    "import warnings\n",
    "warnings.filterwarnings('ignore')\n",
    "import pandas as pd\n",
    "import numpy as np\n",
    "import seaborn as sns \n",
    "from sklearn.preprocessing import OrdinalEncoder\n",
    "from sklearn.model_selection import train_test_split\n",
    "import xgboost as xgb\n",
    "from sklearn.ensemble import GradientBoostingRegressor\n",
    "from sklearn.metrics import mean_squared_error, mean_absolute_error\n",
    "\n",
    "import mlflow\n",
    "# Global settings\n",
    "n_jobs = -1 # This parameter conrols the parallel processing. -1 means using all processors.\n",
    "random_state = 40"
   ]
  },
  {
   "cell_type": "code",
   "execution_count": null,
   "metadata": {
    "application/vnd.databricks.v1+cell": {
     "cellMetadata": {
      "byteLimit": 2048000,
      "rowLimit": 10000
     },
     "inputWidgets": {},
     "nuid": "6c100d16-64ac-4805-b568-d49c26648fc7",
     "showTitle": false,
     "title": ""
    }
   },
   "outputs": [],
   "source": [
    "\n",
    "# URL del archivo CSV en el repositorio de GitHub\n",
    "url1 = 'https://raw.githubusercontent.com/jsalcedo14/DSA_project/master/dataTrain_carListings.csv'\n",
    "url2 = 'https://raw.githubusercontent.com/jsalcedo14/DSA_project/master/dataTest_carListings.csv'\n",
    "# Lee el archivo CSV en un DataFrame de pandas\n",
    "data = pd.read_csv(url1)\n",
    "test = pd.read_csv(url2)"
   ]
  },
  {
   "cell_type": "code",
   "execution_count": null,
   "metadata": {
    "application/vnd.databricks.v1+cell": {
     "cellMetadata": {
      "byteLimit": 2048000,
      "rowLimit": 10000
     },
     "inputWidgets": {},
     "nuid": "08bc336b-09f3-409d-8f05-79def5db855e",
     "showTitle": false,
     "title": ""
    }
   },
   "outputs": [],
   "source": [
    "# Codificación de las variables categoricas\n",
    "cat = ['State','Make','Model']\n",
    "dic = {'State':{},'Make':{},'Model':{}}\n",
    "\n",
    "for i in cat:\n",
    "    idx, codex = pd.factorize(data[i])\n",
    "    data[i] = idx\n",
    "    # Diccionario de referencia\n",
    "    dic[i].update({code: i for i, code in enumerate(codex)})\n",
    "    # Codificación de variables en testing con base en el diccionario\n",
    "    test[i] = test[i].apply(lambda code: dic[i][code])"
   ]
  },
  {
   "cell_type": "code",
   "execution_count": null,
   "metadata": {
    "application/vnd.databricks.v1+cell": {
     "cellMetadata": {
      "byteLimit": 2048000,
      "rowLimit": 10000
     },
     "inputWidgets": {},
     "nuid": "64483872-edda-42e9-94d5-8f1a7ea736d3",
     "showTitle": false,
     "title": ""
    }
   },
   "outputs": [
    {
     "name": "stdout",
     "output_type": "stream",
     "text": [
      "Cantidad Datos: 400000\n",
      "Primer Cuartil: 13499.0\n",
      "Tercer Cuartil: 26999.0\n",
      "Rango Intercuartil: 13500.0\n",
      "Mediana: 18450.0\n",
      "Valor Mínimo: 5001\n",
      "Valor Máximo: 79999\n",
      "BI_Calculado: \n",
      " -6751.0\n",
      "BS_Calculado: \n",
      " 47249.0\n"
     ]
    }
   ],
   "source": [
    "print('Cantidad Datos:',len(data))\n",
    "\n",
    "# Control de Outliers\n",
    "Q1 = data['Price'].quantile(0.25)\n",
    "print('Primer Cuartil:', Q1)\n",
    "\n",
    "Q3 = data['Price'].quantile(0.75)\n",
    "print('Tercer Cuartil:', Q3)\n",
    "\n",
    "IQR = Q3 - Q1\n",
    "print('Rango Intercuartil:', IQR)\n",
    "\n",
    "Mediana = data['Price'].median()\n",
    "print('Mediana:', Mediana)\n",
    "\n",
    "Valor_Minimo = data['Price'].min()\n",
    "print('Valor Mínimo:', Valor_Minimo)\n",
    "\n",
    "Valor_Maximo = data['Price'].max()\n",
    "print('Valor Máximo:', Valor_Maximo)\n",
    "\n",
    "BI_Calculado = (Q1 - 1.5 * IQR)\n",
    "print('BI_Calculado: \\n', BI_Calculado)\n",
    "\n",
    "BS_Calculado = (Q3 + 1.5 * IQR)\n",
    "print('BS_Calculado: \\n', BS_Calculado)"
   ]
  },
  {
   "cell_type": "code",
   "execution_count": null,
   "metadata": {
    "application/vnd.databricks.v1+cell": {
     "cellMetadata": {
      "byteLimit": 2048000,
      "rowLimit": 10000
     },
     "inputWidgets": {},
     "nuid": "6f1ba083-4bcc-4fbe-8008-47ea3026bf02",
     "showTitle": false,
     "title": ""
    }
   },
   "outputs": [
    {
     "name": "stdout",
     "output_type": "stream",
     "text": [
      "\n",
      " Lista de Outliers \n",
      "         Price  Year  Mileage  State  Make  Model\n",
      "90      61700  2017      355      5     1     68\n",
      "122     49977  2015    25740      7     1     86\n",
      "128     47550  2011    47383     22    22     91\n",
      "168     51400  2015    44905      2    10    105\n",
      "187     73216  2016     4912      2     1    117\n",
      "...       ...   ...      ...    ...   ...    ...\n",
      "399900  59980  2017    10989      2     1     45\n",
      "399931  67365  2017     4519      0     9    144\n",
      "399956  63900  2016    21501     32    22     91\n",
      "399957  52998  2017     4694     25     2    230\n",
      "399992  50990  2017    23896      2    27    162\n",
      "\n",
      "[10880 rows x 6 columns]\n"
     ]
    }
   ],
   "source": [
    "ubicacion_outliers = (data['Price'] < BI_Calculado) | (data['Price'] > BS_Calculado)\n",
    "outliers = data[ubicacion_outliers]\n",
    "print('\\n Lista de Outliers \\n', outliers)\n",
    "\n",
    "ubicacion_sin_out = (data['Price'] >= BI_Calculado) & (data['Price'] <= BS_Calculado)\n",
    "data = data[ubicacion_sin_out]"
   ]
  },
  {
   "cell_type": "code",
   "execution_count": null,
   "metadata": {
    "application/vnd.databricks.v1+cell": {
     "cellMetadata": {
      "byteLimit": 2048000,
      "rowLimit": 10000
     },
     "inputWidgets": {},
     "nuid": "923fc5b6-17cd-4eaa-a79d-c44c4166df57",
     "showTitle": false,
     "title": ""
    }
   },
   "outputs": [],
   "source": [
    "# Selección de variables numéricas (X)\n",
    "\n",
    "X = data.drop(['Price'], axis=1)\n",
    "\n",
    "X['YxM'] = X['Year'] * X['Mileage']\n",
    "test['YxM'] = test['Year'] * test['Mileage']\n",
    "\n",
    "y = data['Price']"
   ]
  },
  {
   "cell_type": "code",
   "execution_count": null,
   "metadata": {
    "application/vnd.databricks.v1+cell": {
     "cellMetadata": {
      "byteLimit": 2048000,
      "rowLimit": 10000
     },
     "inputWidgets": {},
     "nuid": "ded6c9c0-9d69-4d9e-9361-2e78e8847aad",
     "showTitle": false,
     "title": ""
    }
   },
   "outputs": [],
   "source": [
    "# Separación de variables predictoras (X) y variable de interés (y) en set de entrenamiento y test usandola función train_test_split\n",
    "from sklearn.model_selection import train_test_split\n",
    "X_train, X_test, y_train, y_test = train_test_split(X, y, test_size=0.33, random_state=40)"
   ]
  },
  {
   "cell_type": "code",
   "execution_count": null,
   "metadata": {
    "application/vnd.databricks.v1+cell": {
     "cellMetadata": {
      "byteLimit": 2048000,
      "rowLimit": 10000
     },
     "inputWidgets": {},
     "nuid": "2e8c8e1a-ed51-4a73-868d-51846ce830ca",
     "showTitle": false,
     "title": ""
    }
   },
   "outputs": [
    {
     "name": "stderr",
     "output_type": "stream",
     "text": [
      "2023/11/13 00:38:48 WARNING mlflow.models.model: Model logged without a signature. Signatures will be required for upcoming model registry features as they validate model inputs and denote the expected schema of model outputs. Please visit https://www.mlflow.org/docs/2.8.0/models.html#set-signature-on-logged-model for instructions on setting a model signature on your logged model.\n"
     ]
    },
    {
     "data": {
      "application/vnd.jupyter.widget-view+json": {
       "model_id": "81940b7d1e18404e9c076b08ccccda49",
       "version_major": 2,
       "version_minor": 0
      },
      "text/plain": [
       "Uploading artifacts:   0%|          | 0/5 [00:00<?, ?it/s]"
      ]
     },
     "metadata": {},
     "output_type": "display_data"
    },
    {
     "name": "stdout",
     "output_type": "stream",
     "text": [
      "MSE: 8847315.897443125\n",
      "RMSE: 2974.443796316065\n",
      "MAE: 2052.219503004961\n",
      "MAPE: 10.971310457195347\n"
     ]
    }
   ],
   "source": [
    "\n",
    "# defina el servidor para llevar el registro de modelos y artefactos\n",
    "# mlflow.set_tracking_uri('http://localhost:5000')\n",
    "# registre el experimento\n",
    "experiment = mlflow.set_experiment(\"/GradientB\")\n",
    "\n",
    "# Aquí se ejecuta MLflow sin especificar un nombre o id del experimento. MLflow los crea un experimento para este cuaderno por defecto y guarda las características del experimento y las métricas definidas.\n",
    "# Para ver el resultado de las corridas haga click en Experimentos en el menú izquierdo.\n",
    "with mlflow.start_run(experiment_id=experiment.experiment_id):\n",
    "    # defina los parámetros del modelo\n",
    "    n_estimators = 248\n",
    "    learning_rate = 0.2\n",
    "    max_depth = 10\n",
    "    max_features = 0.7\n",
    "    subsample = 1\n",
    "\n",
    "    # Cree el modelo con los parámetros definidos y entrénelo\n",
    "    gb = GradientBoostingRegressor(n_estimators=n_estimators,\n",
    "                                   learning_rate=learning_rate,\n",
    "                                   max_depth=max_depth,\n",
    "                                   max_features=max_features,\n",
    "                                   subsample=subsample)\n",
    "    gb.fit(X_train, y_train)\n",
    "\n",
    "    # Realice predicciones de prueba\n",
    "    predictions = gb.predict(X_test)\n",
    "\n",
    "    # Calcule y registre las métricas\n",
    "    mse = mean_squared_error(y_test, predictions)\n",
    "    rmse = np.sqrt(mse)\n",
    "    mae = mean_absolute_error(y_test, predictions)\n",
    "    mape = np.mean(np.abs((y_test - predictions) / y_test)) * 100.0\n",
    "\n",
    "    mlflow.log_param(\"num_trees\", n_estimators)\n",
    "    mlflow.log_param(\"learning_rate\", learning_rate)\n",
    "    mlflow.log_param(\"max_depth\", max_depth)\n",
    "    mlflow.log_param(\"max_features\", max_features)\n",
    "    mlflow.log_param(\"subsample\", subsample)\n",
    "\n",
    "    mlflow.log_metric(\"mse\", mse)\n",
    "    mlflow.log_metric(\"rmse\", rmse)\n",
    "    mlflow.log_metric(\"mae\", mae)\n",
    "    mlflow.log_metric(\"mape\", mape)\n",
    "\n",
    "    # Registre el modelo\n",
    "    mlflow.sklearn.log_model(gb, \"gradient-boosting-model\")\n",
    "\n",
    "    print(\"MSE:\", mse)\n",
    "    print(\"RMSE:\", rmse)\n",
    "    print(\"MAE:\", mae)\n",
    "    print(\"MAPE:\", mape)\n"
   ]
  }
 ],
 "metadata": {
  "application/vnd.databricks.v1+notebook": {
   "dashboards": [],
   "language": "python",
   "notebookMetadata": {
    "pythonIndentUnit": 4
   },
   "notebookName": "DSA_Proj_GB",
   "widgets": {}
  },
  "kernelspec": {
   "display_name": "Python 3 (ipykernel)",
   "language": "python",
   "name": "python3"
  },
  "language_info": {
   "codemirror_mode": {
    "name": "ipython",
    "version": 3
   },
   "file_extension": ".py",
   "mimetype": "text/x-python",
   "name": "python",
   "nbconvert_exporter": "python",
   "pygments_lexer": "ipython3",
   "version": "3.11.5"
  }
 },
 "nbformat": 4,
 "nbformat_minor": 4
}
